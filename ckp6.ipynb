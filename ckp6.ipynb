{
 "cells": [
  {
   "cell_type": "code",
   "execution_count": 14,
   "metadata": {},
   "outputs": [
    {
     "name": "stdout",
     "output_type": "stream",
     "text": [
      "[1, 2, 3, 4, 5]\n"
     ]
    }
   ],
   "source": [
    "import numpy as np\n",
    "def tolist(arr):\n",
    "    l = list()\n",
    "    for i in range(len(arr)):\n",
    "        l.append(arr[i])\n",
    "    return l\n",
    "a=np.array([1, 2, 3, 4, 5])\n",
    "l = tolist(a)\n",
    "print(l)\n"
   ]
  },
  {
   "cell_type": "code",
   "execution_count": 15,
   "metadata": {},
   "outputs": [
    {
     "name": "stdout",
     "output_type": "stream",
     "text": [
      "[ 28  80 162]\n"
     ]
    }
   ],
   "source": [
    "a=np.array([[1, 2, 3],[4, 5, 6],[7, 8, 9]])\n",
    "arr = np.array([10,10,10])\n",
    "for i in range(3):\n",
    "    tot = 1\n",
    "    for j in range(3):\n",
    "        tot *= a[j][i]\n",
    "    arr[i] = tot\n",
    "print(arr)"
   ]
  },
  {
   "cell_type": "code",
   "execution_count": 16,
   "metadata": {},
   "outputs": [
    {
     "name": "stdout",
     "output_type": "stream",
     "text": [
      "[5, 6, 7, 8, 9]\n"
     ]
    }
   ],
   "source": [
    "def getH(arr,a):\n",
    "    f = []\n",
    "    for i in range(len(arr)):\n",
    "        for j in range(len(arr[i])):\n",
    "            if(arr[i][j] > a):\n",
    "                f.append(arr[i][j])\n",
    "    return f\n",
    "print(getH(a,4))"
   ]
  },
  {
   "cell_type": "code",
   "execution_count": 19,
   "metadata": {},
   "outputs": [
    {
     "name": "stdout",
     "output_type": "stream",
     "text": [
      "[4, 10, 18]\n"
     ]
    }
   ],
   "source": [
    "def byhand(A,B):\n",
    "    C = []\n",
    "    for i in range(len(A)):\n",
    "        C.append(A[i]*B[i])\n",
    "    return C\n",
    "A=np.array([1, 2, 3])\n",
    "B=np.array([4, 5, 6])\n",
    "C =byhand(A,B)\n",
    "print(C)"
   ]
  },
  {
   "cell_type": "code",
   "execution_count": 28,
   "metadata": {},
   "outputs": [
    {
     "name": "stdout",
     "output_type": "stream",
     "text": [
      "[2.0, 5.0, 8.0]\n"
     ]
    }
   ],
   "source": [
    "import numpy as np\n",
    "a=np.array([[1, 2, 3],[4, 5, 6],[7, 8, 9]])\n",
    "arr = []\n",
    "for i in range(len(a)):\n",
    "    l = []\n",
    "    for j in range(len(a[i])):\n",
    "        l.append(a[i][j])\n",
    "    tot = 0\n",
    "    for k in range(len(l)):\n",
    "        tot+= l[k]\n",
    "    tot = tot/len(l)\n",
    "    arr.append(tot)\n",
    "print(arr)"
   ]
  }
 ],
 "metadata": {
  "kernelspec": {
   "display_name": "Python 3",
   "language": "python",
   "name": "python3"
  },
  "language_info": {
   "codemirror_mode": {
    "name": "ipython",
    "version": 3
   },
   "file_extension": ".py",
   "mimetype": "text/x-python",
   "name": "python",
   "nbconvert_exporter": "python",
   "pygments_lexer": "ipython3",
   "version": "3.8.5"
  }
 },
 "nbformat": 4,
 "nbformat_minor": 4
}
