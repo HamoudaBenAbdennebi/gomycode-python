{
 "cells": [
  {
   "cell_type": "code",
   "execution_count": 15,
   "metadata": {},
   "outputs": [
    {
     "name": "stdout",
     "output_type": "stream",
     "text": [
      "nbr = 4\n",
      "1  =  12\n",
      "2  =  3\n",
      "3  =  10\n",
      "4  =  5\n",
      "[12, 3, 10, 5]\n",
      "target = 15\n",
      "1 , 2  3 , 4  "
     ]
    }
   ],
   "source": [
    "def ex1():\n",
    "    arr = []\n",
    "    x = int(input(\"nbr = \"))\n",
    "    for i in range(x):\n",
    "        print(i+1,' = ',end = ' ')\n",
    "        y = int(input())\n",
    "        arr.append(y)\n",
    "    print(arr)\n",
    "    target = int(input('target = '))\n",
    "    yes = []\n",
    "    for i in range(len(arr)-1):\n",
    "        for j in range(i+1,len(arr)):\n",
    "            if arr[i] + arr[j] == target :\n",
    "                tpl = (i+1,j+1)\n",
    "                yes.append(tpl)\n",
    "    return yes \n",
    "x = ex1()\n",
    "for i in range(len(x)):\n",
    "    print(str(x[i][0]),\",\",str(x[i][1]), end = '  ')\n",
    "    "
   ]
  },
  {
   "cell_type": "code",
   "execution_count": 2,
   "metadata": {},
   "outputs": [
    {
     "name": "stdout",
     "output_type": "stream",
     "text": [
      "[[], [54], [7], [7, 54], [6], [6, 54], [6, 7], [6, 7, 54], [5], [5, 54], [5, 7], [5, 7, 54], [5, 6], [5, 6, 54], [5, 6, 7], [5, 6, 7, 54]]\n"
     ]
    }
   ],
   "source": [
    "class ex2 :\n",
    "    def sub_sets(self, sset):\n",
    "        return self.Recur([], sorted(sset))\n",
    "    \n",
    "    def Recur(self, current, sset):\n",
    "        if sset:\n",
    "            return self.Recur(current, sset[1:]) + self.Recur(current + [sset[0]], sset[1:])\n",
    "        return [current]\n",
    "\n",
    "print(ex2().sub_sets([5,6,7,54]))"
   ]
  },
  {
   "cell_type": "code",
   "execution_count": 1,
   "metadata": {},
   "outputs": [
    {
     "name": "stdout",
     "output_type": "stream",
     "text": [
      "[[-10, 2, 8], [-7, -3, 10]]\n"
     ]
    }
   ],
   "source": [
    "class ex3:\n",
    "    def Sum(self, nums):\n",
    "        nums, result, i = sorted(nums), [], 0\n",
    "        while i < len(nums) - 2:\n",
    "            j, k = i + 1, len(nums) - 1\n",
    "            while j < k:\n",
    "                if nums[i] + nums[j] + nums[k] < 0:\n",
    "                    j += 1\n",
    "                elif nums[i] + nums[j] + nums[k] > 0:\n",
    "                    k -= 1\n",
    "                else:\n",
    "                    result.append([nums[i], nums[j], nums[k]])\n",
    "                    j, k = j + 1, k - 1\n",
    "                    while j < k and nums[j] == nums[j - 1]:\n",
    "                        j += 1\n",
    "                    while j < k and nums[k] == nums[k + 1]:\n",
    "                        k -= 1\n",
    "            i += 1\n",
    "            while i < len(nums) - 2 and nums[i] == nums[i - 1]:\n",
    "                i += 1\n",
    "        return result\n",
    "\n",
    "print(ex3().Sum([-25, -10, -7, -3, 2, 4, 8, 10]))"
   ]
  },
  {
   "cell_type": "code",
   "execution_count": 5,
   "metadata": {},
   "outputs": [
    {
     "name": "stdout",
     "output_type": "stream",
     "text": [
      "nbr = 3\n",
      "1  =  12\n",
      "2  =  3\n",
      "3  =  4\n",
      "[12, 3, 4]\n",
      "target = 15\n",
      "1 , 2  "
     ]
    }
   ],
   "source": [
    "class ex4:\n",
    "    def func(self):\n",
    "        arr = []\n",
    "        x = int(input(\"nbr = \"))\n",
    "        for i in range(x):\n",
    "            print(i+1,' = ',end = ' ')\n",
    "            y = int(input())\n",
    "            arr.append(y)\n",
    "        print(arr)\n",
    "        target = int(input('target = '))\n",
    "        yes = []\n",
    "        for i in range(len(arr)-1):\n",
    "            for j in range(i+1,len(arr)):\n",
    "                if arr[i] + arr[j] == target :\n",
    "                    tpl = (i+1,j+1)\n",
    "                    yes.append(tpl)\n",
    "        return yes \n",
    "        \n",
    "x = ex4().func()\n",
    "for i in range(len(x)):\n",
    "    print(str(x[i][0]),\",\",str(x[i][1]), end = '  ')"
   ]
  }
 ],
 "metadata": {
  "kernelspec": {
   "display_name": "Python 3",
   "language": "python",
   "name": "python3"
  },
  "language_info": {
   "codemirror_mode": {
    "name": "ipython",
    "version": 3
   },
   "file_extension": ".py",
   "mimetype": "text/x-python",
   "name": "python",
   "nbconvert_exporter": "python",
   "pygments_lexer": "ipython3",
   "version": "3.8.5"
  }
 },
 "nbformat": 4,
 "nbformat_minor": 4
}
