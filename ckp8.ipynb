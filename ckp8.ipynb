{
 "cells": [
  {
   "cell_type": "code",
   "execution_count": 26,
   "metadata": {},
   "outputs": [],
   "source": [
    "f = open(r\"C:\\Users\\hamou\\Desktop\\ckp8\\test.txt\",\"r\",encoding = 'utf-8')"
   ]
  },
  {
   "cell_type": "code",
   "execution_count": 27,
   "metadata": {
    "scrolled": true
   },
   "outputs": [
    {
     "name": "stdout",
     "output_type": "stream",
     "text": [
      "ALI SAMI CHAOUCH\n",
      "\n",
      "YOUSSEF HAMMI\n",
      "\n",
      "KHALIL SOUID\n",
      "\n",
      "['YOUSSEF HAMMI\\n', 'KHALIL SOUID']\n"
     ]
    }
   ],
   "source": [
    "number_of_lines = 3\n",
    "\n",
    "\n",
    "for i in range(number_of_lines):\n",
    "    line = f.readline()\n",
    "    print(line)\n",
    "    \n",
    "lines = f.readlines()\n",
    "\n",
    "last_lines = lines[-2:]\n",
    "\n",
    "\n",
    "print(last_lines)\n",
    "f.close()"
   ]
  },
  {
   "cell_type": "code",
   "execution_count": 28,
   "metadata": {},
   "outputs": [
    {
     "name": "stdout",
     "output_type": "stream",
     "text": [
      "13\n"
     ]
    }
   ],
   "source": [
    "def count_words(filepath):\n",
    "   with open(filepath) as f:\n",
    "       data = f.read()\n",
    "       data.replace(\",\", \" \")\n",
    "       return len(data.split(\" \"))\n",
    "print(count_words(r\"C:\\Users\\hamou\\Desktop\\ckp8\\test.txt\"))"
   ]
  }
 ],
 "metadata": {
  "kernelspec": {
   "display_name": "Python 3",
   "language": "python",
   "name": "python3"
  },
  "language_info": {
   "codemirror_mode": {
    "name": "ipython",
    "version": 3
   },
   "file_extension": ".py",
   "mimetype": "text/x-python",
   "name": "python",
   "nbconvert_exporter": "python",
   "pygments_lexer": "ipython3",
   "version": "3.8.5"
  }
 },
 "nbformat": 4,
 "nbformat_minor": 4
}
