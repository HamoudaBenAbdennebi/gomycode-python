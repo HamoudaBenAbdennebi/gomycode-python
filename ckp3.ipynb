{
 "cells": [
  {
   "cell_type": "markdown",
   "metadata": {},
   "source": [
    "# Q1"
   ]
  },
  {
   "cell_type": "code",
   "execution_count": 4,
   "metadata": {},
   "outputs": [
    {
     "name": "stdout",
     "output_type": "stream",
     "text": [
      "n = 3\n",
      "1  =  23\n",
      "2  =  44\n",
      "3  =  65\n",
      "132\n"
     ]
    }
   ],
   "source": [
    "def arr():\n",
    "    arr = []\n",
    "    n = int(input(\"n = \"))\n",
    "    for i in range(n):\n",
    "        print(i+1,' = ',end=' ')\n",
    "        x = int(input())\n",
    "        arr.append(x)\n",
    "    total = 0\n",
    "    for j in range(n):\n",
    "        total += arr[j]\n",
    "    return total\n",
    "\n",
    "x = arr()\n",
    "print(x)"
   ]
  },
  {
   "cell_type": "markdown",
   "metadata": {},
   "source": [
    "# Q2"
   ]
  },
  {
   "cell_type": "code",
   "execution_count": 5,
   "metadata": {},
   "outputs": [
    {
     "name": "stdout",
     "output_type": "stream",
     "text": [
      "[(2, 1), (1, 2), (2, 3), (4, 4), (2, 5)]\n"
     ]
    }
   ],
   "source": [
    "tpl = [(2, 5), (1, 2), (4, 4), (2, 3), (2, 1)]\n",
    "for i in range(len(tpl) - 1):\n",
    "    for j in range(0 , len(tpl) - i - 1):\n",
    "        if tpl[j][1] > tpl[j+1][1] :\n",
    "            tpl[j], tpl[j+1] = tpl[j+1], tpl[j]\n",
    "print(tpl)"
   ]
  },
  {
   "cell_type": "markdown",
   "metadata": {},
   "source": [
    "# Q3"
   ]
  },
  {
   "cell_type": "code",
   "execution_count": 6,
   "metadata": {},
   "outputs": [
    {
     "name": "stdout",
     "output_type": "stream",
     "text": [
      "{'a': 400, 'b': 400, 'c': 300, 'd': 400}\n"
     ]
    }
   ],
   "source": [
    "d1 = {\n",
    "        'a' : 100,\n",
    "        'b' : 200,\n",
    "        'c' : 300\n",
    "    }\n",
    "d2 = {\n",
    "        'a' : 300,\n",
    "        'b' : 200,\n",
    "        'd' : 400\n",
    "    }\n",
    "for key in d1:\n",
    "    if key in d2:\n",
    "        d1[key] = d1[key] + d2[key]\n",
    "        d2.pop(key)\n",
    "    else:\n",
    "        pass\n",
    "    \n",
    "print({**d1, **d2})"
   ]
  },
  {
   "cell_type": "markdown",
   "metadata": {},
   "source": [
    "# Q4"
   ]
  },
  {
   "cell_type": "code",
   "execution_count": 11,
   "metadata": {},
   "outputs": [
    {
     "name": "stdout",
     "output_type": "stream",
     "text": [
      "{1: 1, 2: 4, 3: 9, 4: 16, 5: 25, 6: 36, 7: 49, 8: 64}\n"
     ]
    }
   ],
   "source": [
    "def create_dict(n):\n",
    "    d= dict()\n",
    "    for i in range(n):\n",
    "        d[i+1] = (i+1)**2\n",
    "    return d\n",
    "\n",
    "d = create_dict(8)\n",
    "print(d)"
   ]
  },
  {
   "cell_type": "markdown",
   "metadata": {},
   "source": [
    "# Q5"
   ]
  },
  {
   "cell_type": "code",
   "execution_count": 46,
   "metadata": {},
   "outputs": [
    {
     "name": "stdout",
     "output_type": "stream",
     "text": [
      "[('item3', '24.5'), ('item2', '15.10'), ('item1', '12.20')]\n"
     ]
    }
   ],
   "source": [
    "def sort_tuple(tpl):\n",
    "    for i in range(len(tpl) - 1):\n",
    "        for j in range(0 , len(tpl) - i - 1):\n",
    "            one , two = tpl[j][1].index('.') , tpl[j+1][1].index('.')\n",
    "            if float(tpl[j][1][one+1:len(tpl[j][1])]) > float(tpl[j+1][1][two+1:len(tpl[j+1][1])]) :\n",
    "                tpl[j], tpl[j+1] = tpl[j+1], tpl[j]\n",
    "    return tpl\n",
    "\n",
    "tpl = sort_tuple([('item1', '12.20'), ('item2', '15.10'), ('item3', '24.5')])\n",
    "print(tpl)"
   ]
  }
 ],
 "metadata": {
  "kernelspec": {
   "display_name": "Python 3",
   "language": "python",
   "name": "python3"
  },
  "language_info": {
   "codemirror_mode": {
    "name": "ipython",
    "version": 3
   },
   "file_extension": ".py",
   "mimetype": "text/x-python",
   "name": "python",
   "nbconvert_exporter": "python",
   "pygments_lexer": "ipython3",
   "version": "3.8.5"
  }
 },
 "nbformat": 4,
 "nbformat_minor": 4
}
