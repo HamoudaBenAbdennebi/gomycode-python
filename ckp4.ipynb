{
 "cells": [
  {
   "cell_type": "code",
   "execution_count": 56,
   "metadata": {},
   "outputs": [],
   "source": [
    "import math"
   ]
  },
  {
   "cell_type": "markdown",
   "metadata": {},
   "source": [
    "# Q1"
   ]
  },
  {
   "cell_type": "code",
   "execution_count": 57,
   "metadata": {},
   "outputs": [],
   "source": [
    "def maximum(a,b,c):\n",
    "    if a>b and a>c:\n",
    "        return a\n",
    "    elif b>a and b>c:\n",
    "        return b\n",
    "    elif c>b and c>a:\n",
    "        return c\n",
    "    elif a==b and a>c:\n",
    "        return a\n",
    "    elif a==b and a<c:\n",
    "        return c\n",
    "    elif c==b and a>c:\n",
    "        return a\n",
    "    elif c==b and a<c:\n",
    "        return c\n",
    "    elif a==c and a>b:\n",
    "        return a\n",
    "    elif a==c and a<b:\n",
    "        return b\n"
   ]
  },
  {
   "cell_type": "markdown",
   "metadata": {},
   "source": [
    "# Q2"
   ]
  },
  {
   "cell_type": "code",
   "execution_count": 58,
   "metadata": {},
   "outputs": [],
   "source": [
    "def calculation(a,b):\n",
    "    res = str(a+b)+\" \" +str(a-b)\n",
    "    return res"
   ]
  },
  {
   "cell_type": "markdown",
   "metadata": {},
   "source": [
    "# Q3"
   ]
  },
  {
   "cell_type": "code",
   "execution_count": 59,
   "metadata": {},
   "outputs": [],
   "source": [
    "def sums(l):\n",
    "    res = 0\n",
    "    for i in l:\n",
    "        res += i\n",
    "    return res\n",
    "\n",
    "def multiplies(l):\n",
    "    res = 1\n",
    "    for i in l:\n",
    "        res *= i\n",
    "    return res\n",
    "def twoarr(l):\n",
    "    l1 , l2 = [] , []\n",
    "    for i in range(len(l)):\n",
    "        if i % 2 == 0:\n",
    "            l1.append(l[i])\n",
    "        else:\n",
    "            l2.append(l[i])\n",
    "    return [l1,l2]"
   ]
  },
  {
   "cell_type": "markdown",
   "metadata": {},
   "source": [
    "# Q4"
   ]
  },
  {
   "cell_type": "code",
   "execution_count": 60,
   "metadata": {},
   "outputs": [],
   "source": [
    "def sortedalph(ch):\n",
    "    x = ch.split('-')\n",
    "    x = sorted(x)\n",
    "    x = '-'.join(x)\n",
    "    return x"
   ]
  },
  {
   "cell_type": "markdown",
   "metadata": {},
   "source": [
    "# Q5"
   ]
  },
  {
   "cell_type": "code",
   "execution_count": 61,
   "metadata": {},
   "outputs": [],
   "source": [
    "def ex5():\n",
    "    ch = []\n",
    "    D = input('x = ')\n",
    "    D = D.split(',')\n",
    "    for e in D:\n",
    "        e = int(e)\n",
    "        formula = math.sqrt((2 * 50 * e)/30)\n",
    "        formula = str(int(formula))\n",
    "        ch.append(formula)\n",
    "    ch = ','.join(ch)\n",
    "    return ch\n",
    "    "
   ]
  },
  {
   "cell_type": "markdown",
   "metadata": {},
   "source": [
    "# exe"
   ]
  },
  {
   "cell_type": "code",
   "execution_count": 63,
   "metadata": {
    "scrolled": false
   },
   "outputs": [
    {
     "name": "stdout",
     "output_type": "stream",
     "text": [
      "ex1 =  6\n",
      "ex2 =  50 30\n",
      "ex3 =  16 36\n",
      "ex4 =  black-green-red-white-yellow\n",
      "x = 100,150,180\n",
      "ex5 =  18,22,24\n"
     ]
    }
   ],
   "source": [
    "# Q1\n",
    "print('ex1 = ',maximum(4,6,6))\n",
    "# Q2\n",
    "print(\"ex2 = \",calculation(40,10))\n",
    "# Q3\n",
    "x = twoarr([1,4,6,3,9,3])\n",
    "print(\"ex3 = \",sums(x[0]),end = ' ')\n",
    "print(multiplies(x[1]))\n",
    "# Q4\n",
    "y = sortedalph('green-red-yellow-black-white')\n",
    "print(\"ex4 = \",y)\n",
    "# Q5\n",
    "ch = ex5()\n",
    "print(\"ex5 = \",ch)"
   ]
  }
 ],
 "metadata": {
  "kernelspec": {
   "display_name": "Python 3",
   "language": "python",
   "name": "python3"
  },
  "language_info": {
   "codemirror_mode": {
    "name": "ipython",
    "version": 3
   },
   "file_extension": ".py",
   "mimetype": "text/x-python",
   "name": "python",
   "nbconvert_exporter": "python",
   "pygments_lexer": "ipython3",
   "version": "3.8.5"
  }
 },
 "nbformat": 4,
 "nbformat_minor": 4
}
